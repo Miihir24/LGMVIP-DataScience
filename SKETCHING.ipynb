{
 "cells": [
  {
   "cell_type": "markdown",
   "metadata": {},
   "source": [
    "## LETSGROWMORE TASK  - 4 - Image To Pencil Sketch With Python"
   ]
  },
  {
   "cell_type": "markdown",
   "metadata": {},
   "source": [
    "###### INSTALLING OPENCV-PYTHON"
   ]
  },
  {
   "cell_type": "code",
   "execution_count": 1,
   "metadata": {},
   "outputs": [
    {
     "name": "stdout",
     "output_type": "stream",
     "text": [
      "Collecting opencv-python\n",
      "  Using cached opencv_python-4.5.3.56-cp38-cp38-win_amd64.whl (34.9 MB)\n",
      "Requirement already satisfied: numpy>=1.17.3 in c:\\users\\miihi\\anaconda3\\lib\\site-packages (from opencv-python) (1.19.2)\n",
      "Installing collected packages: opencv-python\n",
      "Successfully installed opencv-python-4.5.3.56\n"
     ]
    }
   ],
   "source": [
    "!pip install opencv-python"
   ]
  },
  {
   "cell_type": "markdown",
   "metadata": {},
   "source": [
    "##### IMPORTING REQUIRED LIBRARY"
   ]
  },
  {
   "cell_type": "code",
   "execution_count": 2,
   "metadata": {},
   "outputs": [],
   "source": [
    "import cv2"
   ]
  },
  {
   "cell_type": "markdown",
   "metadata": {},
   "source": [
    "##### READING THE IMAGE"
   ]
  },
  {
   "cell_type": "code",
   "execution_count": 53,
   "metadata": {},
   "outputs": [],
   "source": [
    "img = cv2.imread(\"C:/Users/miihi/Dhoni.JFIF\")\n"
   ]
  },
  {
   "cell_type": "code",
   "execution_count": 54,
   "metadata": {},
   "outputs": [
    {
     "data": {
      "text/plain": [
       "array([[[ 23,  29,  24],\n",
       "        [ 23,  29,  24],\n",
       "        [ 22,  28,  23],\n",
       "        ...,\n",
       "        [169, 172, 157],\n",
       "        [169, 172, 157],\n",
       "        [169, 172, 157]],\n",
       "\n",
       "       [[ 23,  29,  24],\n",
       "        [ 23,  29,  24],\n",
       "        [ 23,  29,  24],\n",
       "        ...,\n",
       "        [166, 169, 154],\n",
       "        [167, 170, 155],\n",
       "        [167, 170, 155]],\n",
       "\n",
       "       [[ 23,  29,  24],\n",
       "        [ 23,  29,  24],\n",
       "        [ 23,  29,  24],\n",
       "        ...,\n",
       "        [163, 165, 153],\n",
       "        [164, 166, 154],\n",
       "        [164, 166, 154]],\n",
       "\n",
       "       ...,\n",
       "\n",
       "       [[ 78,  37,  15],\n",
       "        [ 78,  37,  15],\n",
       "        [ 79,  36,  15],\n",
       "        ...,\n",
       "        [248, 248, 230],\n",
       "        [248, 248, 230],\n",
       "        [248, 248, 230]],\n",
       "\n",
       "       [[ 78,  37,  15],\n",
       "        [ 78,  37,  15],\n",
       "        [ 78,  35,  14],\n",
       "        ...,\n",
       "        [248, 248, 230],\n",
       "        [248, 248, 230],\n",
       "        [248, 248, 230]],\n",
       "\n",
       "       [[ 79,  38,  16],\n",
       "        [ 79,  38,  16],\n",
       "        [ 79,  37,  18],\n",
       "        ...,\n",
       "        [247, 247, 229],\n",
       "        [247, 247, 229],\n",
       "        [247, 247, 229]]], dtype=uint8)"
      ]
     },
     "execution_count": 54,
     "metadata": {},
     "output_type": "execute_result"
    }
   ],
   "source": [
    "img"
   ]
  },
  {
   "cell_type": "markdown",
   "metadata": {},
   "source": [
    "###### Let's see the image!"
   ]
  },
  {
   "cell_type": "code",
   "execution_count": 55,
   "metadata": {},
   "outputs": [
    {
     "data": {
      "text/plain": [
       "-1"
      ]
     },
     "execution_count": 55,
     "metadata": {},
     "output_type": "execute_result"
    }
   ],
   "source": [
    "cv2.imshow(\"nice\", img)\n",
    "cv2.waitKey(0)"
   ]
  },
  {
   "cell_type": "markdown",
   "metadata": {},
   "source": [
    "###### Converting the image to grey-scale - (BLACK-N-WHITE)"
   ]
  },
  {
   "cell_type": "code",
   "execution_count": 57,
   "metadata": {},
   "outputs": [
    {
     "data": {
      "text/plain": [
       "-1"
      ]
     },
     "execution_count": 57,
     "metadata": {},
     "output_type": "execute_result"
    }
   ],
   "source": [
    "grey_scale = cv2.cvtColor(img, cv2.COLOR_BGR2GRAY)\n",
    "cv2.imshow(\"new_nice\", grey_scale)\n",
    "cv2.waitKey(0)"
   ]
  },
  {
   "cell_type": "markdown",
   "metadata": {},
   "source": [
    "###### CREATING AN INVERTED IMAGE"
   ]
  },
  {
   "cell_type": "code",
   "execution_count": 58,
   "metadata": {},
   "outputs": [
    {
     "data": {
      "text/plain": [
       "-1"
      ]
     },
     "execution_count": 58,
     "metadata": {},
     "output_type": "execute_result"
    }
   ],
   "source": [
    "invert = cv2.bitwise_not(grey_scale)\n",
    "cv2.imshow(\"inverted_new_nice\", invert)\n",
    "cv2.waitKey(0)"
   ]
  },
  {
   "cell_type": "markdown",
   "metadata": {},
   "source": [
    "###### CREATING A BLUR IMAGE"
   ]
  },
  {
   "cell_type": "code",
   "execution_count": 59,
   "metadata": {},
   "outputs": [
    {
     "data": {
      "text/plain": [
       "-1"
      ]
     },
     "execution_count": 59,
     "metadata": {},
     "output_type": "execute_result"
    }
   ],
   "source": [
    "blur = cv2.GaussianBlur(invert, (19,19), 0)\n",
    "cv2.imshow(\"blur_inverted\", blur)\n",
    "cv2.waitKey(0)\n"
   ]
  },
  {
   "cell_type": "markdown",
   "metadata": {},
   "source": [
    " ###### CREATING INVERTED BLUR IMAGE"
   ]
  },
  {
   "cell_type": "code",
   "execution_count": 68,
   "metadata": {},
   "outputs": [
    {
     "data": {
      "text/plain": [
       "-1"
      ]
     },
     "execution_count": 68,
     "metadata": {},
     "output_type": "execute_result"
    }
   ],
   "source": [
    "invert_blur = cv2.bitwise_not(blur)\n",
    "cv2.imshow(\"inverted_blur\", invert_blur)\n",
    "cv2.waitKey(0)"
   ]
  },
  {
   "cell_type": "markdown",
   "metadata": {},
   "source": [
    "##### FINALLY! CREATING THE SKETCH\n"
   ]
  },
  {
   "cell_type": "code",
   "execution_count": 69,
   "metadata": {},
   "outputs": [
    {
     "data": {
      "text/plain": [
       "-1"
      ]
     },
     "execution_count": 69,
     "metadata": {},
     "output_type": "execute_result"
    }
   ],
   "source": [
    "sketched = cv2.divide(grey_scale, invert_blur, scale = 250)\n",
    "cv2.imshow(\"Final_Sketch\", sketched)\n",
    "cv2.waitKey(0)"
   ]
  },
  {
   "cell_type": "markdown",
   "metadata": {},
   "source": [
    "###### SAVING THE SKETCH"
   ]
  },
  {
   "cell_type": "code",
   "execution_count": 62,
   "metadata": {},
   "outputs": [
    {
     "data": {
      "text/plain": [
       "True"
      ]
     },
     "execution_count": 62,
     "metadata": {},
     "output_type": "execute_result"
    }
   ],
   "source": [
    "cv2.imwrite(\"P_SKETCHED.png\", sketched)"
   ]
  },
  {
   "cell_type": "code",
   "execution_count": null,
   "metadata": {},
   "outputs": [],
   "source": []
  }
 ],
 "metadata": {
  "kernelspec": {
   "display_name": "Python 3",
   "language": "python",
   "name": "python3"
  },
  "language_info": {
   "codemirror_mode": {
    "name": "ipython",
    "version": 3
   },
   "file_extension": ".py",
   "mimetype": "text/x-python",
   "name": "python",
   "nbconvert_exporter": "python",
   "pygments_lexer": "ipython3",
   "version": "3.8.5"
  }
 },
 "nbformat": 4,
 "nbformat_minor": 4
}
